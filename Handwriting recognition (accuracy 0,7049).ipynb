{
 "cells": [
  {
   "cell_type": "markdown",
   "id": "91a889d7",
   "metadata": {},
   "source": [
    "### Loading libraries ###"
   ]
  },
  {
   "cell_type": "code",
   "execution_count": 1,
   "id": "7c08ac3e",
   "metadata": {},
   "outputs": [],
   "source": [
    "import cv2\n",
    "import keras\n",
    "import numpy as np\n",
    "import matplotlib.pyplot as plt"
   ]
  },
  {
   "cell_type": "markdown",
   "id": "a56d211f",
   "metadata": {},
   "source": [
    "### Uploading the source data ###"
   ]
  },
  {
   "cell_type": "code",
   "execution_count": 2,
   "id": "ccde666d",
   "metadata": {},
   "outputs": [],
   "source": [
    "train = np.loadtxt('C:/Github/HR/train.csv', delimiter=',', skiprows=1)\n",
    "test = np.loadtxt('C:/Github/HR/test.csv', delimiter=',', skiprows=1)"
   ]
  },
  {
   "cell_type": "code",
   "execution_count": 3,
   "id": "2490dc9f",
   "metadata": {},
   "outputs": [],
   "source": [
    "train_label = train[:, 0] \n",
    "train_img = np.resize(train[:, 1:], (train.shape[0], 28, 28)) \n",
    "test_img = np.resize(test, (test.shape[0], 28, 28))"
   ]
  },
  {
   "cell_type": "markdown",
   "id": "0ee81b5b",
   "metadata": {},
   "source": [
    "### Visualization of the source data ###"
   ]
  },
  {
   "cell_type": "code",
   "execution_count": 4,
   "id": "92a0c8a2",
   "metadata": {},
   "outputs": [
    {
     "data": {
      "image/png": "[encoded data removed]",
      "text/plain": [
       "<Figure size 1080x720 with 10 Axes>"
      ]
     },
     "metadata": {
      "needs_background": "light"
     },
     "output_type": "display_data"
    }
   ],
   "source": [
    "%matplotlib inline\n",
    "fig = plt.figure(figsize = (15, 10))\n",
    "for i, img in enumerate(train_img[0:10], 1):\n",
    "    subplot = fig.add_subplot(3, 5, i)\n",
    "    plt.imshow(img, cmap = 'gray')\n",
    "    subplot.set_title('%s' % train_label[i - 1])"
   ]
  },
  {
   "cell_type": "markdown",
   "id": "5627b804",
   "metadata": {},
   "source": [
    "### Calculate the X and Y components of the gradient using the Sobel operator ###"
   ]
  },
  {
   "cell_type": "code",
   "execution_count": 5,
   "id": "3a02b9ff",
   "metadata": {},
   "outputs": [],
   "source": [
    "train_sobel_x = np.zeros_like(train_img) # Return an array of zeros\n",
    "train_sobel_y = np.zeros_like(train_img)\n",
    "for i in range(len(train_img)):\n",
    "    train_sobel_x[i] = cv2.Sobel(train_img[i], cv2.CV_64F, dx = 1, dy = 0, ksize = 3) # 2D array\n",
    "    train_sobel_y[i] = cv2.Sobel(train_img[i], cv2.CV_64F, dx = 0, dy = 1, ksize = 3)"
   ]
  },
  {
   "cell_type": "code",
   "execution_count": 6,
   "id": "01cbf3d2",
   "metadata": {},
   "outputs": [],
   "source": [
    "test_sobel_x = np.zeros_like(test_img)\n",
    "test_sobel_y = np.zeros_like(test_img)\n",
    "for i in range(len(test_img)):\n",
    "    test_sobel_x[i] = cv2.Sobel(test_img[i], cv2.CV_64F, dx = 1, dy = 0, ksize = 3)\n",
    "    test_sobel_y[i] = cv2.Sobel(test_img[i], cv2.CV_64F, dx = 0, dy = 1, ksize = 3)"
   ]
  },
  {
   "cell_type": "markdown",
   "id": "8362670e",
   "metadata": {},
   "source": [
    "### Calculate the angle and length of the gradient vector ###"
   ]
  },
  {
   "cell_type": "code",
   "execution_count": 7,
   "id": "bd76dc83",
   "metadata": {},
   "outputs": [],
   "source": [
    "train_g, train_theta = cv2.cartToPolar(train_sobel_x, train_sobel_y) # Vector length and angle"
   ]
  },
  {
   "cell_type": "code",
   "execution_count": 8,
   "id": "6c661abc",
   "metadata": {},
   "outputs": [],
   "source": [
    "test_g, test_theta = cv2.cartToPolar(test_sobel_x, test_sobel_y)"
   ]
  },
  {
   "cell_type": "markdown",
   "id": "c968785b",
   "metadata": {},
   "source": [
    "### Calculate histograms of gradients ###"
   ]
  },
  {
   "cell_type": "code",
   "execution_count": 9,
   "id": "e91997c4",
   "metadata": {},
   "outputs": [],
   "source": [
    "# Histograms are calculated taking into account the length of the gradient vector\n",
    "train_hist = np.zeros((len(train_img), 16))\n",
    "for i in range(len(train_img)):\n",
    "    hist, borders = np.histogram(train_theta[i],\n",
    "                                 bins = 16,\n",
    "                                 range = (0., 2. * np.pi),\n",
    "                                 weights = train_g[i])\n",
    "    train_hist[i] = hist"
   ]
  },
  {
   "cell_type": "code",
   "execution_count": 10,
   "id": "fde79c5c",
   "metadata": {},
   "outputs": [],
   "source": [
    "test_hist = np.zeros((len(test_img), 16))\n",
    "for i in range(len(test_img)):\n",
    "    hist, borders = np.histogram(test_theta[i],\n",
    "                                 bins = 16,\n",
    "                                 range = (0., 2. * np.pi),\n",
    "                                 weights = test_g[i])\n",
    "    test_hist[i] = hist"
   ]
  },
  {
   "cell_type": "markdown",
   "id": "1b1c3445",
   "metadata": {},
   "source": [
    "### Normalize the histogram vector ###"
   ]
  },
  {
   "cell_type": "code",
   "execution_count": 11,
   "id": "d93457d9",
   "metadata": {},
   "outputs": [],
   "source": [
    "# L2 norm is used\n",
    "train_hist = train_hist / np.linalg.norm(train_hist, axis = 1)[:, None]"
   ]
  },
  {
   "cell_type": "code",
   "execution_count": 12,
   "id": "f5665b74",
   "metadata": {},
   "outputs": [],
   "source": [
    "test_hist = test_hist / np.linalg.norm(test_hist, axis = 1)[:, None]"
   ]
  },
  {
   "cell_type": "markdown",
   "id": "a87d7bad",
   "metadata": {},
   "source": [
    "### Splitting the sample into training and validation ###"
   ]
  },
  {
   "cell_type": "code",
   "execution_count": 13,
   "id": "32f822cb",
   "metadata": {},
   "outputs": [],
   "source": [
    "from sklearn.model_selection import train_test_split\n",
    "y_train, y_val, x_train, x_val = train_test_split(\n",
    "    train_label, train_hist, test_size = 0.2,\n",
    "    random_state = 42)"
   ]
  },
  {
   "cell_type": "markdown",
   "id": "895d9147",
   "metadata": {},
   "source": [
    "### Building a network for training on histograms ###"
   ]
  },
  {
   "cell_type": "code",
   "execution_count": 14,
   "id": "a6f76802",
   "metadata": {},
   "outputs": [
    {
     "name": "stdout",
     "output_type": "stream",
     "text": [
      "Model: \"sequential\"\n",
      "_________________________________________________________________\n",
      " Layer (type)                Output Shape              Param #   \n",
      "=================================================================\n",
      " dense (Dense)               (None, 1000)              17000     \n",
      "                                                                 \n",
      " dense_1 (Dense)             (None, 500)               500500    \n",
      "                                                                 \n",
      " dense_2 (Dense)             (None, 10)                5010      \n",
      "                                                                 \n",
      "=================================================================\n",
      "Total params: 522,510\n",
      "Trainable params: 522,510\n",
      "Non-trainable params: 0\n",
      "_________________________________________________________________\n",
      "Epoch 1/100\n",
      "112/112 [==============================] - 3s 19ms/step - loss: 1.6338 - accuracy: 0.4107 - val_loss: 1.3004 - val_accuracy: 0.5352\n",
      "Epoch 2/100\n",
      "112/112 [==============================] - 2s 16ms/step - loss: 1.2175 - accuracy: 0.5656 - val_loss: 1.1599 - val_accuracy: 0.5831\n",
      "Epoch 3/100\n",
      "112/112 [==============================] - 2s 15ms/step - loss: 1.1386 - accuracy: 0.5870 - val_loss: 1.1051 - val_accuracy: 0.5967\n",
      "Epoch 4/100\n",
      "112/112 [==============================] - 2s 15ms/step - loss: 1.1051 - accuracy: 0.6010 - val_loss: 1.0889 - val_accuracy: 0.6015\n",
      "Epoch 5/100\n",
      "112/112 [==============================] - 2s 15ms/step - loss: 1.0809 - accuracy: 0.6090 - val_loss: 1.0791 - val_accuracy: 0.6037\n",
      "Epoch 6/100\n",
      "112/112 [==============================] - 2s 15ms/step - loss: 1.0662 - accuracy: 0.6144 - val_loss: 1.0632 - val_accuracy: 0.6077\n",
      "Epoch 7/100\n",
      "112/112 [==============================] - 2s 16ms/step - loss: 1.0517 - accuracy: 0.6204 - val_loss: 1.0514 - val_accuracy: 0.6207\n",
      "Epoch 8/100\n",
      "112/112 [==============================] - 2s 15ms/step - loss: 1.0385 - accuracy: 0.6264 - val_loss: 1.0309 - val_accuracy: 0.6276\n",
      "Epoch 9/100\n",
      "112/112 [==============================] - 2s 15ms/step - loss: 1.0281 - accuracy: 0.6289 - val_loss: 1.0391 - val_accuracy: 0.6223\n",
      "Epoch 10/100\n",
      "112/112 [==============================] - 2s 16ms/step - loss: 1.0234 - accuracy: 0.6301 - val_loss: 1.0324 - val_accuracy: 0.6204\n",
      "Epoch 11/100\n",
      "112/112 [==============================] - 2s 17ms/step - loss: 1.0132 - accuracy: 0.6330 - val_loss: 1.0129 - val_accuracy: 0.6268\n",
      "Epoch 12/100\n",
      "112/112 [==============================] - 2s 15ms/step - loss: 1.0056 - accuracy: 0.6368 - val_loss: 1.0008 - val_accuracy: 0.6358\n",
      "Epoch 13/100\n",
      "112/112 [==============================] - 2s 16ms/step - loss: 0.9994 - accuracy: 0.6379 - val_loss: 0.9989 - val_accuracy: 0.6351\n",
      "Epoch 14/100\n",
      "112/112 [==============================] - 2s 16ms/step - loss: 0.9945 - accuracy: 0.6417 - val_loss: 1.0027 - val_accuracy: 0.6324\n",
      "Epoch 15/100\n",
      "112/112 [==============================] - 2s 16ms/step - loss: 0.9883 - accuracy: 0.6426 - val_loss: 1.0011 - val_accuracy: 0.6318\n",
      "Epoch 16/100\n",
      "112/112 [==============================] - 2s 17ms/step - loss: 0.9854 - accuracy: 0.6445 - val_loss: 0.9876 - val_accuracy: 0.6407\n",
      "Epoch 17/100\n",
      "112/112 [==============================] - 2s 15ms/step - loss: 0.9770 - accuracy: 0.6464 - val_loss: 0.9926 - val_accuracy: 0.6355\n",
      "Epoch 18/100\n",
      "112/112 [==============================] - 2s 15ms/step - loss: 0.9724 - accuracy: 0.6509 - val_loss: 0.9976 - val_accuracy: 0.6312\n",
      "Epoch 19/100\n",
      "112/112 [==============================] - 2s 15ms/step - loss: 0.9689 - accuracy: 0.6497 - val_loss: 0.9777 - val_accuracy: 0.6400\n",
      "Epoch 20/100\n",
      "112/112 [==============================] - 2s 16ms/step - loss: 0.9656 - accuracy: 0.6504 - val_loss: 0.9761 - val_accuracy: 0.6437\n",
      "Epoch 21/100\n",
      "112/112 [==============================] - 2s 15ms/step - loss: 0.9642 - accuracy: 0.6513 - val_loss: 0.9730 - val_accuracy: 0.6438\n",
      "Epoch 22/100\n",
      "112/112 [==============================] - 2s 16ms/step - loss: 0.9592 - accuracy: 0.6524 - val_loss: 0.9674 - val_accuracy: 0.6442\n",
      "Epoch 23/100\n",
      "112/112 [==============================] - 2s 15ms/step - loss: 0.9516 - accuracy: 0.6579 - val_loss: 0.9638 - val_accuracy: 0.6502\n",
      "Epoch 24/100\n",
      "112/112 [==============================] - 2s 15ms/step - loss: 0.9466 - accuracy: 0.6581 - val_loss: 0.9656 - val_accuracy: 0.6488\n",
      "Epoch 25/100\n",
      "112/112 [==============================] - 2s 15ms/step - loss: 0.9471 - accuracy: 0.6585 - val_loss: 0.9592 - val_accuracy: 0.6508\n",
      "Epoch 26/100\n",
      "112/112 [==============================] - 2s 15ms/step - loss: 0.9431 - accuracy: 0.6588 - val_loss: 0.9574 - val_accuracy: 0.6488\n",
      "Epoch 27/100\n",
      "112/112 [==============================] - 2s 15ms/step - loss: 0.9410 - accuracy: 0.6610 - val_loss: 0.9539 - val_accuracy: 0.6523\n",
      "Epoch 28/100\n",
      "112/112 [==============================] - 2s 15ms/step - loss: 0.9330 - accuracy: 0.6618 - val_loss: 0.9550 - val_accuracy: 0.6533\n",
      "Epoch 29/100\n",
      "112/112 [==============================] - 2s 15ms/step - loss: 0.9323 - accuracy: 0.6636 - val_loss: 0.9553 - val_accuracy: 0.6485\n",
      "Epoch 30/100\n",
      "112/112 [==============================] - 2s 15ms/step - loss: 0.9300 - accuracy: 0.6649 - val_loss: 0.9505 - val_accuracy: 0.6527\n",
      "Epoch 31/100\n",
      "112/112 [==============================] - 2s 15ms/step - loss: 0.9292 - accuracy: 0.6660 - val_loss: 0.9526 - val_accuracy: 0.6540\n",
      "Epoch 32/100\n",
      "112/112 [==============================] - 2s 15ms/step - loss: 0.9272 - accuracy: 0.6643 - val_loss: 0.9438 - val_accuracy: 0.6570\n",
      "Epoch 33/100\n",
      "112/112 [==============================] - 2s 16ms/step - loss: 0.9219 - accuracy: 0.6673 - val_loss: 0.9558 - val_accuracy: 0.6496\n",
      "Epoch 34/100\n",
      "112/112 [==============================] - 2s 16ms/step - loss: 0.9175 - accuracy: 0.6689 - val_loss: 0.9472 - val_accuracy: 0.6536\n",
      "Epoch 35/100\n",
      "112/112 [==============================] - 2s 16ms/step - loss: 0.9162 - accuracy: 0.6691 - val_loss: 0.9518 - val_accuracy: 0.6552\n",
      "Epoch 36/100\n",
      "112/112 [==============================] - 2s 17ms/step - loss: 0.9166 - accuracy: 0.6704 - val_loss: 0.9382 - val_accuracy: 0.6575\n",
      "Epoch 37/100\n",
      "112/112 [==============================] - 2s 16ms/step - loss: 0.9092 - accuracy: 0.6740 - val_loss: 0.9411 - val_accuracy: 0.6602\n",
      "Epoch 38/100\n",
      "112/112 [==============================] - 2s 16ms/step - loss: 0.9158 - accuracy: 0.6673 - val_loss: 0.9505 - val_accuracy: 0.6538\n",
      "Epoch 39/100\n",
      "112/112 [==============================] - 2s 15ms/step - loss: 0.9067 - accuracy: 0.6745 - val_loss: 0.9408 - val_accuracy: 0.6580\n",
      "Epoch 40/100\n",
      "112/112 [==============================] - 2s 15ms/step - loss: 0.9027 - accuracy: 0.6724 - val_loss: 0.9369 - val_accuracy: 0.6606\n",
      "Epoch 41/100\n",
      "112/112 [==============================] - 2s 15ms/step - loss: 0.9046 - accuracy: 0.6732 - val_loss: 0.9317 - val_accuracy: 0.6619\n",
      "Epoch 42/100\n",
      "112/112 [==============================] - 2s 17ms/step - loss: 0.8975 - accuracy: 0.6771 - val_loss: 0.9361 - val_accuracy: 0.6581\n",
      "Epoch 43/100\n",
      "112/112 [==============================] - 2s 16ms/step - loss: 0.8989 - accuracy: 0.6758 - val_loss: 0.9460 - val_accuracy: 0.6548\n",
      "Epoch 44/100\n",
      "112/112 [==============================] - 2s 16ms/step - loss: 0.8986 - accuracy: 0.6745 - val_loss: 0.9346 - val_accuracy: 0.6577\n",
      "Epoch 45/100\n",
      "112/112 [==============================] - 2s 16ms/step - loss: 0.8985 - accuracy: 0.6737 - val_loss: 0.9373 - val_accuracy: 0.6593\n",
      "Epoch 46/100\n",
      "112/112 [==============================] - 2s 16ms/step - loss: 0.8930 - accuracy: 0.6761 - val_loss: 0.9404 - val_accuracy: 0.6595\n",
      "Epoch 47/100\n",
      "112/112 [==============================] - 2s 16ms/step - loss: 0.8947 - accuracy: 0.6767 - val_loss: 0.9245 - val_accuracy: 0.6662\n",
      "Epoch 48/100\n",
      "112/112 [==============================] - 2s 16ms/step - loss: 0.8886 - accuracy: 0.6791 - val_loss: 0.9287 - val_accuracy: 0.6648\n",
      "Epoch 49/100\n",
      "112/112 [==============================] - 2s 16ms/step - loss: 0.8858 - accuracy: 0.6801 - val_loss: 0.9504 - val_accuracy: 0.6565\n",
      "Epoch 50/100\n",
      "112/112 [==============================] - 2s 16ms/step - loss: 0.8874 - accuracy: 0.6788 - val_loss: 0.9232 - val_accuracy: 0.6657\n",
      "Epoch 51/100\n",
      "112/112 [==============================] - 2s 16ms/step - loss: 0.8869 - accuracy: 0.6790 - val_loss: 0.9207 - val_accuracy: 0.6707\n"
     ]
    },
    {
     "name": "stdout",
     "output_type": "stream",
     "text": [
      "Epoch 52/100\n",
      "112/112 [==============================] - 2s 15ms/step - loss: 0.8823 - accuracy: 0.6811 - val_loss: 0.9294 - val_accuracy: 0.6625\n",
      "Epoch 53/100\n",
      "112/112 [==============================] - 2s 15ms/step - loss: 0.8779 - accuracy: 0.6823 - val_loss: 0.9187 - val_accuracy: 0.6662\n",
      "Epoch 54/100\n",
      "112/112 [==============================] - 2s 16ms/step - loss: 0.8769 - accuracy: 0.6829 - val_loss: 0.9233 - val_accuracy: 0.6692\n",
      "Epoch 55/100\n",
      "112/112 [==============================] - 2s 15ms/step - loss: 0.8781 - accuracy: 0.6847 - val_loss: 0.9275 - val_accuracy: 0.6644\n",
      "Epoch 56/100\n",
      "112/112 [==============================] - 2s 16ms/step - loss: 0.8755 - accuracy: 0.6843 - val_loss: 0.9255 - val_accuracy: 0.6646\n",
      "Epoch 57/100\n",
      "112/112 [==============================] - 2s 15ms/step - loss: 0.8745 - accuracy: 0.6845 - val_loss: 0.9286 - val_accuracy: 0.6625\n",
      "Epoch 58/100\n",
      "112/112 [==============================] - 2s 15ms/step - loss: 0.8734 - accuracy: 0.6835 - val_loss: 0.9170 - val_accuracy: 0.6696\n",
      "Epoch 59/100\n",
      "112/112 [==============================] - 2s 16ms/step - loss: 0.8674 - accuracy: 0.6872 - val_loss: 0.9243 - val_accuracy: 0.6661\n",
      "Epoch 60/100\n",
      "112/112 [==============================] - 2s 16ms/step - loss: 0.8699 - accuracy: 0.6845 - val_loss: 0.9269 - val_accuracy: 0.6640\n",
      "Epoch 61/100\n",
      "112/112 [==============================] - 2s 15ms/step - loss: 0.8666 - accuracy: 0.6855 - val_loss: 0.9243 - val_accuracy: 0.6680\n",
      "Epoch 62/100\n",
      "112/112 [==============================] - 2s 17ms/step - loss: 0.8668 - accuracy: 0.6876 - val_loss: 0.9195 - val_accuracy: 0.6693\n",
      "Epoch 63/100\n",
      "112/112 [==============================] - 2s 17ms/step - loss: 0.8638 - accuracy: 0.6874 - val_loss: 0.9268 - val_accuracy: 0.6654\n",
      "Epoch 64/100\n",
      "112/112 [==============================] - 2s 16ms/step - loss: 0.8624 - accuracy: 0.6874 - val_loss: 0.9299 - val_accuracy: 0.6662\n",
      "Epoch 65/100\n",
      "112/112 [==============================] - 2s 17ms/step - loss: 0.8620 - accuracy: 0.6888 - val_loss: 0.9216 - val_accuracy: 0.6674\n",
      "Epoch 66/100\n",
      "112/112 [==============================] - 2s 15ms/step - loss: 0.8604 - accuracy: 0.6905 - val_loss: 0.9211 - val_accuracy: 0.6683\n",
      "Epoch 67/100\n",
      "112/112 [==============================] - 2s 16ms/step - loss: 0.8582 - accuracy: 0.6902 - val_loss: 0.9232 - val_accuracy: 0.6665\n",
      "Epoch 68/100\n",
      "112/112 [==============================] - 2s 16ms/step - loss: 0.8586 - accuracy: 0.6878 - val_loss: 0.9269 - val_accuracy: 0.6644\n",
      "Epoch 69/100\n",
      "112/112 [==============================] - 2s 17ms/step - loss: 0.8562 - accuracy: 0.6924 - val_loss: 0.9192 - val_accuracy: 0.6702\n",
      "Epoch 70/100\n",
      "112/112 [==============================] - 2s 15ms/step - loss: 0.8552 - accuracy: 0.6906 - val_loss: 0.9147 - val_accuracy: 0.6698\n",
      "Epoch 71/100\n",
      "112/112 [==============================] - 2s 15ms/step - loss: 0.8510 - accuracy: 0.6925 - val_loss: 0.9291 - val_accuracy: 0.6648\n",
      "Epoch 72/100\n",
      "112/112 [==============================] - 2s 15ms/step - loss: 0.8517 - accuracy: 0.6910 - val_loss: 0.9200 - val_accuracy: 0.6688\n",
      "Epoch 73/100\n",
      "112/112 [==============================] - 2s 18ms/step - loss: 0.8496 - accuracy: 0.6915 - val_loss: 0.9155 - val_accuracy: 0.6687\n",
      "Epoch 74/100\n",
      "112/112 [==============================] - 2s 19ms/step - loss: 0.8479 - accuracy: 0.6930 - val_loss: 0.9179 - val_accuracy: 0.6712\n",
      "Epoch 75/100\n",
      "112/112 [==============================] - 2s 19ms/step - loss: 0.8512 - accuracy: 0.6921 - val_loss: 0.9306 - val_accuracy: 0.6663\n",
      "Epoch 76/100\n",
      "112/112 [==============================] - 2s 16ms/step - loss: 0.8489 - accuracy: 0.6931 - val_loss: 0.9124 - val_accuracy: 0.6702\n",
      "Epoch 77/100\n",
      "112/112 [==============================] - 2s 16ms/step - loss: 0.8469 - accuracy: 0.6932 - val_loss: 0.9113 - val_accuracy: 0.6788\n",
      "Epoch 78/100\n",
      "112/112 [==============================] - 2s 15ms/step - loss: 0.8427 - accuracy: 0.6958 - val_loss: 0.9135 - val_accuracy: 0.6693\n",
      "Epoch 79/100\n",
      "112/112 [==============================] - 2s 16ms/step - loss: 0.8418 - accuracy: 0.6950 - val_loss: 0.9106 - val_accuracy: 0.6719\n",
      "Epoch 80/100\n",
      "112/112 [==============================] - 2s 16ms/step - loss: 0.8389 - accuracy: 0.6948 - val_loss: 0.9063 - val_accuracy: 0.6781\n",
      "Epoch 81/100\n",
      "112/112 [==============================] - 2s 16ms/step - loss: 0.8372 - accuracy: 0.6999 - val_loss: 0.9129 - val_accuracy: 0.6743\n",
      "Epoch 82/100\n",
      "112/112 [==============================] - 2s 16ms/step - loss: 0.8386 - accuracy: 0.6950 - val_loss: 0.9150 - val_accuracy: 0.6736\n",
      "Epoch 83/100\n",
      "112/112 [==============================] - 2s 16ms/step - loss: 0.8351 - accuracy: 0.6960 - val_loss: 0.9142 - val_accuracy: 0.6739\n",
      "Epoch 84/100\n",
      "112/112 [==============================] - 2s 16ms/step - loss: 0.8339 - accuracy: 0.6974 - val_loss: 0.9148 - val_accuracy: 0.6727\n",
      "Epoch 85/100\n",
      "112/112 [==============================] - 2s 16ms/step - loss: 0.8345 - accuracy: 0.6978 - val_loss: 0.9080 - val_accuracy: 0.6765\n",
      "Epoch 86/100\n",
      "112/112 [==============================] - 2s 16ms/step - loss: 0.8330 - accuracy: 0.6982 - val_loss: 0.9118 - val_accuracy: 0.6744\n",
      "Epoch 87/100\n",
      "112/112 [==============================] - 2s 16ms/step - loss: 0.8301 - accuracy: 0.7001 - val_loss: 0.9225 - val_accuracy: 0.6702\n",
      "Epoch 88/100\n",
      "112/112 [==============================] - 2s 15ms/step - loss: 0.8314 - accuracy: 0.6979 - val_loss: 0.9166 - val_accuracy: 0.6710\n",
      "Epoch 89/100\n",
      "112/112 [==============================] - 2s 16ms/step - loss: 0.8290 - accuracy: 0.7008 - val_loss: 0.9199 - val_accuracy: 0.6685\n",
      "Epoch 90/100\n",
      "112/112 [==============================] - 2s 16ms/step - loss: 0.8287 - accuracy: 0.6999 - val_loss: 0.9120 - val_accuracy: 0.6745\n",
      "Epoch 91/100\n",
      "112/112 [==============================] - 2s 16ms/step - loss: 0.8259 - accuracy: 0.7024 - val_loss: 0.9122 - val_accuracy: 0.6732\n",
      "Epoch 92/100\n",
      "112/112 [==============================] - 2s 16ms/step - loss: 0.8235 - accuracy: 0.7024 - val_loss: 0.9244 - val_accuracy: 0.6693\n",
      "Epoch 93/100\n",
      "112/112 [==============================] - 2s 17ms/step - loss: 0.8253 - accuracy: 0.7023 - val_loss: 0.9155 - val_accuracy: 0.6767\n",
      "Epoch 94/100\n",
      "112/112 [==============================] - 2s 17ms/step - loss: 0.8233 - accuracy: 0.7023 - val_loss: 0.9126 - val_accuracy: 0.6725\n",
      "Epoch 95/100\n",
      "112/112 [==============================] - 2s 16ms/step - loss: 0.8207 - accuracy: 0.7027 - val_loss: 0.9131 - val_accuracy: 0.6730\n",
      "Epoch 96/100\n",
      "112/112 [==============================] - 2s 16ms/step - loss: 0.8164 - accuracy: 0.7043 - val_loss: 0.9144 - val_accuracy: 0.6710\n",
      "Epoch 97/100\n",
      "112/112 [==============================] - 2s 14ms/step - loss: 0.8178 - accuracy: 0.7040 - val_loss: 0.9177 - val_accuracy: 0.6720\n",
      "Epoch 98/100\n",
      "112/112 [==============================] - 2s 15ms/step - loss: 0.8165 - accuracy: 0.7045 - val_loss: 0.9136 - val_accuracy: 0.6756\n",
      "Epoch 99/100\n",
      "112/112 [==============================] - 2s 17ms/step - loss: 0.8164 - accuracy: 0.7043 - val_loss: 0.9299 - val_accuracy: 0.6650\n",
      "Epoch 100/100\n",
      "112/112 [==============================] - 2s 16ms/step - loss: 0.8140 - accuracy: 0.7049 - val_loss: 0.9153 - val_accuracy: 0.6745\n"
     ]
    },
    {
     "data": {
      "text/plain": [
       "<keras.callbacks.History at 0x1c10312ad90>"
      ]
     },
     "execution_count": 14,
     "metadata": {},
     "output_type": "execute_result"
    }
   ],
   "source": [
    "model = keras.models.Sequential() # create 3 layers\n",
    "model.add(keras.layers.Dense(1000, input_dim = x_train.shape[1], activation='relu'))\n",
    "model.add(keras.layers.Dense(500, activation = 'sigmoid'))\n",
    "model.add(keras.layers.Dense(10, activation = 'softmax'))\n",
    "\n",
    "model.compile(optimizer = 'adam',\n",
    "              loss = 'categorical_crossentropy',\n",
    "              metrics = ['accuracy'])\n",
    "model.summary()\n",
    "\n",
    "from keras.utils import np_utils\n",
    "y_train_labels = np_utils.to_categorical(y_train)\n",
    "y_val_labels = np_utils.to_categorical(y_val)\n",
    "\n",
    "model.fit(x_train, \n",
    "          y_train_labels, \n",
    "          batch_size = 300, \n",
    "          epochs = 100, \n",
    "          shuffle = True, \n",
    "          validation_data = (x_val, y_val_labels))"
   ]
  },
  {
   "cell_type": "markdown",
   "id": "b2941cd2",
   "metadata": {},
   "source": [
    "### Train the model on test data ###"
   ]
  },
  {
   "cell_type": "code",
   "execution_count": 15,
   "id": "e858108b",
   "metadata": {},
   "outputs": [],
   "source": [
    "pred_test = model.predict(test_hist)"
   ]
  },
  {
   "cell_type": "code",
   "execution_count": 16,
   "id": "29a5e786",
   "metadata": {},
   "outputs": [],
   "source": [
    "pred_test1 = []\n",
    "for i in range(len(pred_test)):\n",
    "    spisok = list(pred_test[i])\n",
    "    pred_test1.append(spisok.index(max(spisok)))"
   ]
  },
  {
   "cell_type": "markdown",
   "id": "052f0c89",
   "metadata": {},
   "source": [
    "### Visualize predictions ###"
   ]
  },
  {
   "cell_type": "code",
   "execution_count": 17,
   "id": "197bdb21",
   "metadata": {},
   "outputs": [
    {
     "data": {
      "image/png": "[encoded data removed]",
      "text/plain": [
       "<Figure size 1080x720 with 10 Axes>"
      ]
     },
     "metadata": {
      "needs_background": "light"
     },
     "output_type": "display_data"
    }
   ],
   "source": [
    "fig = plt.figure(figsize=(15, 10))\n",
    "for i, img in enumerate(test_img[0:10], 1):\n",
    "    subplot = fig.add_subplot(3, 5, i)\n",
    "    plt.imshow(img, cmap='gray')\n",
    "    subplot.set_title('%s' % pred_test1[i - 1])"
   ]
  },
  {
   "cell_type": "markdown",
   "id": "a87ca766",
   "metadata": {},
   "source": [
    "### Uploading the received data for sending ###"
   ]
  },
  {
   "cell_type": "code",
   "execution_count": 18,
   "id": "b717b609",
   "metadata": {},
   "outputs": [],
   "source": [
    "with open('C:/Github/HR/dicision.csv', 'w') as dst:\n",
    "    dst.write('ImageId,Label\\n')\n",
    "    for i, p in enumerate(pred_test1, 1):\n",
    "        dst.write('%s,%s\\n' % (i, p))"
   ]
  }
 ],
 "metadata": {
  "kernelspec": {
   "display_name": "Python 3 (ipykernel)",
   "language": "python",
   "name": "python3"
  },
  "language_info": {
   "codemirror_mode": {
    "name": "ipython",
    "version": 3
   },
   "file_extension": ".py",
   "mimetype": "text/x-python",
   "name": "python",
   "nbconvert_exporter": "python",
   "pygments_lexer": "ipython3",
   "version": "3.9.7"
  }
 },
 "nbformat": 4,
 "nbformat_minor": 5
}
